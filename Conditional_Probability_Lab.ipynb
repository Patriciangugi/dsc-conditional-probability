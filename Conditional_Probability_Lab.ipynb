{
  "nbformat": 4,
  "nbformat_minor": 0,
  "metadata": {
    "colab": {
      "provenance": [],
      "authorship_tag": "ABX9TyPdkVI7Ax1XiCNkVJrocyQN",
      "include_colab_link": true
    },
    "kernelspec": {
      "name": "python3",
      "display_name": "Python 3"
    },
    "language_info": {
      "name": "python"
    }
  },
  "cells": [
    {
      "cell_type": "markdown",
      "metadata": {
        "id": "view-in-github",
        "colab_type": "text"
      },
      "source": [
        "<a href=\"https://colab.research.google.com/github/Patriciangugi/dsc-conditional-probability/blob/master/Conditional_Probability_Lab.ipynb\" target=\"_parent\"><img src=\"https://colab.research.google.com/assets/colab-badge.svg\" alt=\"Open In Colab\"/></a>"
      ]
    },
    {
      "cell_type": "code",
      "execution_count": 2,
      "metadata": {
        "colab": {
          "base_uri": "https://localhost:8080/"
        },
        "id": "YhkZ_VTv3j3m",
        "outputId": "1046c531-6107-4299-ad33-a92f23ae591a"
      },
      "outputs": [
        {
          "output_type": "stream",
          "name": "stdout",
          "text": [
            "0.08333333333333333\n"
          ]
        }
      ],
      "source": [
        "prob_head = 1 / 2\n",
        "\n",
        "prob_roll_3 = 1 / 6\n",
        "\n",
        "probability = prob_head * prob_roll_3\n",
        "\n",
        "print(probability)"
      ]
    },
    {
      "cell_type": "code",
      "source": [
        "prob_like_cookies = 8 / 10\n",
        "\n",
        "probability = prob_like_cookies ** 3\n",
        "\n",
        "print(probability)"
      ],
      "metadata": {
        "colab": {
          "base_uri": "https://localhost:8080/"
        },
        "id": "xdrOcVX13qUF",
        "outputId": "043dc3e9-8078-4d41-c58c-c2a4638c7bea"
      },
      "execution_count": 3,
      "outputs": [
        {
          "output_type": "stream",
          "name": "stdout",
          "text": [
            "0.5120000000000001\n"
          ]
        }
      ]
    },
    {
      "cell_type": "code",
      "source": [
        "prob_chocolate = 0.70\n",
        "\n",
        "prob_chocolate_and_strawberry = 0.35\n",
        "\n",
        "percentage_strawberry_given_chocolate = (prob_chocolate_and_strawberry / prob_chocolate) * 100\n",
        "\n",
        "print(percentage_strawberry_given_chocolate, \"%\")"
      ],
      "metadata": {
        "colab": {
          "base_uri": "https://localhost:8080/"
        },
        "id": "AbSCpME-3qba",
        "outputId": "26d8b4ba-c99e-4a37-f2da-5a6436555129"
      },
      "execution_count": 4,
      "outputs": [
        {
          "output_type": "stream",
          "name": "stdout",
          "text": [
            "50.0 %\n"
          ]
        }
      ]
    },
    {
      "cell_type": "code",
      "source": [
        "total_cards = 52\n",
        "\n",
        "aces = 4\n",
        "\n",
        "prob_first_ace = aces / total_cards\n",
        "\n",
        "prob_second_ace = aces / total_cards\n",
        "\n",
        "probability = prob_first_ace * prob_second_ace\n",
        "\n",
        "print(probability)"
      ],
      "metadata": {
        "colab": {
          "base_uri": "https://localhost:8080/"
        },
        "id": "AVbdiQ3Z3qgf",
        "outputId": "6b457320-554b-4f5a-c52b-87841df10b0c"
      },
      "execution_count": 5,
      "outputs": [
        {
          "output_type": "stream",
          "name": "stdout",
          "text": [
            "0.00591715976331361\n"
          ]
        }
      ]
    },
    {
      "cell_type": "code",
      "source": [
        "prob_non_defective = 95 / 100\n",
        "\n",
        "probability_none_defective = prob_non_defective ** 3\n",
        "\n",
        "print(probability_none_defective)"
      ],
      "metadata": {
        "colab": {
          "base_uri": "https://localhost:8080/"
        },
        "id": "ba28q9Qi3qkJ",
        "outputId": "52fc08d0-cb51-4ebf-d0ce-5e29ca2b58ae"
      },
      "execution_count": 6,
      "outputs": [
        {
          "output_type": "stream",
          "name": "stdout",
          "text": [
            "0.8573749999999999\n"
          ]
        }
      ]
    },
    {
      "cell_type": "code",
      "source": [
        "total_outcomes = 6 * 6\n",
        "\n",
        "outcomes_not_A = 4 * 4\n",
        "outcomes_A = total_outcomes - outcomes_not_A\n",
        "prob_A = outcomes_A / total_outcomes\n",
        "\n",
        "outcomes_B = 5\n",
        "prob_B = outcomes_B / total_outcomes\n",
        "\n",
        "outcomes_A_and_B = 4\n",
        "prob_A_and_B = outcomes_A_and_B / total_outcomes\n",
        "\n",
        "prob_B_given_A = prob_A_and_B / prob_A\n",
        "\n",
        "print(prob_A)\n",
        "print(prob_B)\n",
        "print(prob_B_given_A)"
      ],
      "metadata": {
        "colab": {
          "base_uri": "https://localhost:8080/"
        },
        "id": "eWC0BzSf75Hd",
        "outputId": "5b375575-4e4a-41dc-82c2-c97b0482d1d9"
      },
      "execution_count": 9,
      "outputs": [
        {
          "output_type": "stream",
          "name": "stdout",
          "text": [
            "0.5555555555555556\n",
            "0.1388888888888889\n",
            "0.19999999999999998\n"
          ]
        }
      ]
    },
    {
      "cell_type": "code",
      "source": [
        "P_A = 0.5\n",
        "P_B = 0.4\n",
        "P_A_and_B = 0.25\n",
        "\n",
        "P_A_or_B = P_A + P_B - P_A_and_B\n",
        "print(P_A_or_B)\n",
        "\n",
        "P_exactly_one_A_or_B = P_A - P_A_and_B + P_B - P_A_and_B\n",
        "print(P_exactly_one_A_or_B)\n",
        "\n",
        "P_B_given_A = P_A_and_B / P_A\n",
        "print(P_B_given_A)"
      ],
      "metadata": {
        "colab": {
          "base_uri": "https://localhost:8080/"
        },
        "id": "oRaNJmGC75QQ",
        "outputId": "227d1881-020b-430d-853a-50518b725e88"
      },
      "execution_count": 10,
      "outputs": [
        {
          "output_type": "stream",
          "name": "stdout",
          "text": [
            "0.65\n",
            "0.4\n",
            "0.5\n"
          ]
        }
      ]
    }
  ]
}